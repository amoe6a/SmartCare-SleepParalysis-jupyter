{
 "cells": [
  {
   "cell_type": "code",
   "execution_count": 18,
   "metadata": {},
   "outputs": [],
   "source": [
    "import pandas as pd\n",
    "import os\n",
    "# import sklearn\n",
    "\n",
    "path = \"/workspaces/codespaces-jupyter/data/YAAD/\"\n",
    "stimulus_descripttion_file = pd.read_excel(path + 'Stimulus_Description.xlsx')\n",
    "\n",
    "fear_video_id = stimulus_descripttion_file.query('`Target Emotion` == \"fear\"').head(1).get('Video ID').item()\n",
    "\n",
    "path_single_modal_data = path + \"RawData/Singlemodal/ECG/\"\n",
    "path_multi_modal_data = path + \"RawData/Multimodal/ECG/\"\n",
    "\n",
    "single_modal_data_files = os.listdir(path_single_modal_data)\n",
    "multi_modal_data_files = os.listdir(path_multi_modal_data)\n",
    "\n",
    "single_modal_dfs = []\n",
    "for file in single_modal_data_files:\n",
    "    if \"v\" + str(fear_video_id) in file:\n",
    "        df = pd.read_csv(path_single_modal_data + file, delimiter='\\t')\n",
    "        single_modal_dfs.append(df)\n",
    "\n",
    "multi_modal_dfs = []\n",
    "for file in multi_modal_data_files:\n",
    "    if \"v\" + str(fear_video_id) in file:\n",
    "        df = pd.read_csv(path_multi_modal_data + file, delimiter='\\t')\n",
    "        multi_modal_dfs.append(df)"
   ]
  },
  {
   "cell_type": "code",
   "execution_count": 19,
   "metadata": {},
   "outputs": [],
   "source": [
    "def str_dfs_to_real_dfs(dfs) -> pd.array:\n",
    "    real_dfs = []\n",
    "    for df in dfs:\n",
    "        arr = df.columns.values\n",
    "        str_vals = arr[0].split(',')\n",
    "        real_vals = [float(each) for each in str_vals]\n",
    "        real_vals_pd = pd.array(real_vals)\n",
    "        real_dfs.append(real_vals_pd)\n",
    "    return pd.array(real_dfs)\n",
    "\n",
    "def mean_of_means(dfs) -> float:\n",
    "    t = []\n",
    "    for each in dfs:\n",
    "        t.append(each.mean())\n",
    "    return pd.array(t).mean()\n",
    "\n",
    "def min_of_mins(dfs) -> float:\n",
    "    t = []\n",
    "    for each in dfs:\n",
    "        t.append(each.min())\n",
    "    return pd.array(t).min()\n",
    "\n",
    "def max_of_maxs(dfs) -> float:\n",
    "    t = []\n",
    "    for each in dfs:\n",
    "        t.append(each.max())\n",
    "    return pd.array(t).max()\n",
    "\n",
    "def mean_of_vars(dfs) -> float:\n",
    "    t = []\n",
    "    for each in dfs:\n",
    "        t.append(each.var())\n",
    "    return pd.array(t).mean()"
   ]
  },
  {
   "cell_type": "code",
   "execution_count": 20,
   "metadata": {},
   "outputs": [],
   "source": [
    "real_sm_dfs = str_dfs_to_real_dfs(single_modal_dfs)\n",
    "real_mm_dfs = str_dfs_to_real_dfs(multi_modal_dfs)"
   ]
  },
  {
   "cell_type": "markdown",
   "metadata": {},
   "source": [
    "single refers to singlemodal data\n",
    "multi refers to multimodal data"
   ]
  },
  {
   "cell_type": "code",
   "execution_count": 21,
   "metadata": {},
   "outputs": [
    {
     "name": "stdout",
     "output_type": "stream",
     "text": [
      "mean of means single:  -18.522971550372002\n",
      "mean of means multi:  -10.029048553400726\n",
      "min of mins single:  -297.21\n",
      "min of mins multi:  -21.106\n",
      "max of maxs single:  18.678\n",
      "max of maxs multi:  8.1532\n",
      "mean of vars single:  0.13076550723324526\n",
      "mean of vars multi:  0.041651835869248255\n"
     ]
    }
   ],
   "source": [
    "print(\"mean of means single: \", mean_of_means(real_sm_dfs))\n",
    "print(\"mean of means multi: \", mean_of_means(real_mm_dfs))\n",
    "\n",
    "print(\"min of mins single: \", min_of_mins(real_sm_dfs))\n",
    "print(\"min of mins multi: \", min_of_mins(real_mm_dfs))\n",
    "\n",
    "print(\"max of maxs single: \", max_of_maxs(real_sm_dfs))\n",
    "print(\"max of maxs multi: \", max_of_maxs(real_mm_dfs))\n",
    "\n",
    "print(\"mean of vars single: \", mean_of_vars(real_sm_dfs))\n",
    "print(\"mean of vars multi: \", mean_of_vars(real_mm_dfs))"
   ]
  }
 ],
 "metadata": {
  "kernelspec": {
   "display_name": "Python 3",
   "language": "python",
   "name": "python3"
  },
  "language_info": {
   "codemirror_mode": {
    "name": "ipython",
    "version": 3
   },
   "file_extension": ".py",
   "mimetype": "text/x-python",
   "name": "python",
   "nbconvert_exporter": "python",
   "pygments_lexer": "ipython3",
   "version": "3.12.1"
  }
 },
 "nbformat": 4,
 "nbformat_minor": 2
}
