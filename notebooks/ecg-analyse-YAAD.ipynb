{
 "cells": [
  {
   "cell_type": "code",
   "execution_count": 1,
   "metadata": {},
   "outputs": [
    {
     "name": "stdout",
     "output_type": "stream",
     "text": [
      "17.741\n",
      "15.641\n",
      "16.2503166\n",
      "0.0956791453935187\n"
     ]
    }
   ],
   "source": [
    "import pandas as pd\n",
    "# import sklearn\n",
    "\n",
    "df = pd.read_csv('/workspaces/codespaces-jupyter/data/YAAD/RawData/Singlemodal/ECG/ECGdata_s1p1v1.dat', delimiter='\\t')\n",
    "df.describe()\n",
    "\n",
    "arr = df.columns.values\n",
    "str_vals = arr[0].split(',')\n",
    "real_vals = [float(each) for each in str_vals]\n",
    "real_vals_pd = pd.array(real_vals)\n",
    "\n",
    "print(real_vals_pd.max())\n",
    "print(real_vals_pd.min())\n",
    "print(real_vals_pd.mean())\n",
    "print(real_vals_pd.var())\n",
    "\n"
   ]
  }
 ],
 "metadata": {
  "kernelspec": {
   "display_name": "Python 3",
   "language": "python",
   "name": "python3"
  },
  "language_info": {
   "codemirror_mode": {
    "name": "ipython",
    "version": 3
   },
   "file_extension": ".py",
   "mimetype": "text/x-python",
   "name": "python",
   "nbconvert_exporter": "python",
   "pygments_lexer": "ipython3",
   "version": "3.12.1"
  }
 },
 "nbformat": 4,
 "nbformat_minor": 2
}
